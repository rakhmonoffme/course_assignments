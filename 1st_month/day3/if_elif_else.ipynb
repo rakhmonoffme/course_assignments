{
 "cells": [
  {
   "cell_type": "markdown",
   "metadata": {},
   "source": [
    "# If/else Statements"
   ]
  },
  {
   "cell_type": "code",
   "execution_count": 5,
   "metadata": {},
   "outputs": [
    {
     "name": "stdout",
     "output_type": "stream",
     "text": [
      "odd\n"
     ]
    }
   ],
   "source": [
    "a = int(input('enter a number:'))\n",
    "if a%2==0:\n",
    "    print('even')\n",
    "else:\n",
    "    print('odd')"
   ]
  },
  {
   "cell_type": "code",
   "execution_count": 7,
   "metadata": {},
   "outputs": [
    {
     "name": "stdout",
     "output_type": "stream",
     "text": [
      "positive\n"
     ]
    }
   ],
   "source": [
    "a = int(input('enter a number:'))\n",
    "if a >= 0:\n",
    "    print('positive')\n",
    "elif a == 0:\n",
    "    print('zero')\n",
    "else:\n",
    "    print('negative')   "
   ]
  },
  {
   "cell_type": "code",
   "execution_count": 9,
   "metadata": {},
   "outputs": [
    {
     "name": "stdout",
     "output_type": "stream",
     "text": [
      "1. Yiqilgan\n"
     ]
    }
   ],
   "source": [
    "b=int(input('your score:'))\n",
    "if b >= 90:\n",
    "    print('5. Alo')\n",
    "elif b >= 80:\n",
    "    print('4. Yahshi')\n",
    "elif b >= 70:\n",
    "    print('3. Qoniqarli')\n",
    "elif b >= 60:\n",
    "    print('2. Yiqilgan')\n",
    "else:\n",
    "    print('1. Yiqilgan')"
   ]
  },
  {
   "cell_type": "code",
   "execution_count": 11,
   "metadata": {},
   "outputs": [
    {
     "name": "stdout",
     "output_type": "stream",
     "text": [
      "67 ballga 2. Yiqilgan\n"
     ]
    }
   ],
   "source": [
    "b=int(input('your score:'))\n",
    "if b >= 90:\n",
    "    print(f'{b} ballga 5. Alo')\n",
    "elif b >= 80:\n",
    "    print(f'{b} ballga 4. Yahshi')\n",
    "elif b >= 70:\n",
    "    print(f'{b} ballga 3. Qoniqarli')\n",
    "elif b >= 60:\n",
    "    print(f'{b} ballga 2. Yiqilgan')\n",
    "else:\n",
    "    print(f'{b} ballga 1. Yiqilgan')"
   ]
  },
  {
   "cell_type": "code",
   "execution_count": null,
   "metadata": {},
   "outputs": [],
   "source": []
  }
 ],
 "metadata": {
  "kernelspec": {
   "display_name": "Python 3",
   "language": "python",
   "name": "python3"
  },
  "language_info": {
   "codemirror_mode": {
    "name": "ipython",
    "version": 3
   },
   "file_extension": ".py",
   "mimetype": "text/x-python",
   "name": "python",
   "nbconvert_exporter": "python",
   "pygments_lexer": "ipython3",
   "version": "3.10.0"
  }
 },
 "nbformat": 4,
 "nbformat_minor": 2
}
