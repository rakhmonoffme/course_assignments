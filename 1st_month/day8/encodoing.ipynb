{
 "cells": [
  {
   "cell_type": "code",
   "execution_count": 32,
   "metadata": {},
   "outputs": [],
   "source": [
    "import pandas as pd\n",
    "import numpy as np\n",
    "import matplotlib.pyplot as plt\n",
    "import seaborn as sns\n",
    "from sklearn.preprocessing import OneHotEncoder, StandardScaler\n"
   ]
  },
  {
   "cell_type": "code",
   "execution_count": 33,
   "metadata": {},
   "outputs": [],
   "source": [
    "df = pd.read_csv('telefon turini aniqlash.csv')"
   ]
  },
  {
   "cell_type": "code",
   "execution_count": 34,
   "metadata": {},
   "outputs": [
    {
     "data": {
      "text/html": [
       "<div>\n",
       "<style scoped>\n",
       "    .dataframe tbody tr th:only-of-type {\n",
       "        vertical-align: middle;\n",
       "    }\n",
       "\n",
       "    .dataframe tbody tr th {\n",
       "        vertical-align: top;\n",
       "    }\n",
       "\n",
       "    .dataframe thead th {\n",
       "        text-align: right;\n",
       "    }\n",
       "</style>\n",
       "<table border=\"1\" class=\"dataframe\">\n",
       "  <thead>\n",
       "    <tr style=\"text-align: right;\">\n",
       "      <th></th>\n",
       "      <th>battereya_hajmi</th>\n",
       "      <th>blutus</th>\n",
       "      <th>protsessor_tezligi</th>\n",
       "      <th>ikkita simkartalik</th>\n",
       "      <th>Oldi_kamera</th>\n",
       "      <th>4G</th>\n",
       "      <th>Ichki_xotira</th>\n",
       "      <th>tel_ingichgaligi</th>\n",
       "      <th>Rangi</th>\n",
       "      <th>Vazni</th>\n",
       "      <th>...</th>\n",
       "      <th>Qurilma xajmi(pix)</th>\n",
       "      <th>Qurilma ekran kengligi(pix)</th>\n",
       "      <th>ram</th>\n",
       "      <th>Qurilma xajmi(cm)</th>\n",
       "      <th>Qurilma ekran kengligi(cm)</th>\n",
       "      <th>Bir_quvvatlashdagi gaplashish</th>\n",
       "      <th>3g</th>\n",
       "      <th>sensorli</th>\n",
       "      <th>wifi</th>\n",
       "      <th>telefon_turi</th>\n",
       "    </tr>\n",
       "  </thead>\n",
       "  <tbody>\n",
       "    <tr>\n",
       "      <th>0</th>\n",
       "      <td>842</td>\n",
       "      <td>0</td>\n",
       "      <td>2.2</td>\n",
       "      <td>0</td>\n",
       "      <td>1</td>\n",
       "      <td>0</td>\n",
       "      <td>7</td>\n",
       "      <td>0.6</td>\n",
       "      <td>Qizil</td>\n",
       "      <td>188</td>\n",
       "      <td>...</td>\n",
       "      <td>20.0</td>\n",
       "      <td>756.0</td>\n",
       "      <td>2549</td>\n",
       "      <td>9.0</td>\n",
       "      <td>7.0</td>\n",
       "      <td>19</td>\n",
       "      <td>0</td>\n",
       "      <td>0</td>\n",
       "      <td>1</td>\n",
       "      <td>1</td>\n",
       "    </tr>\n",
       "    <tr>\n",
       "      <th>1</th>\n",
       "      <td>1021</td>\n",
       "      <td>1</td>\n",
       "      <td>0.5</td>\n",
       "      <td>1</td>\n",
       "      <td>0</td>\n",
       "      <td>1</td>\n",
       "      <td>53</td>\n",
       "      <td>0.7</td>\n",
       "      <td>Yashil</td>\n",
       "      <td>136</td>\n",
       "      <td>...</td>\n",
       "      <td>905.0</td>\n",
       "      <td>1988.0</td>\n",
       "      <td>2631</td>\n",
       "      <td>17.0</td>\n",
       "      <td>3.0</td>\n",
       "      <td>7</td>\n",
       "      <td>1</td>\n",
       "      <td>1</td>\n",
       "      <td>0</td>\n",
       "      <td>2</td>\n",
       "    </tr>\n",
       "    <tr>\n",
       "      <th>2</th>\n",
       "      <td>563</td>\n",
       "      <td>1</td>\n",
       "      <td>0.5</td>\n",
       "      <td>1</td>\n",
       "      <td>2</td>\n",
       "      <td>1</td>\n",
       "      <td>41</td>\n",
       "      <td>0.9</td>\n",
       "      <td>Sariq</td>\n",
       "      <td>145</td>\n",
       "      <td>...</td>\n",
       "      <td>1263.0</td>\n",
       "      <td>1716.0</td>\n",
       "      <td>2603</td>\n",
       "      <td>11.0</td>\n",
       "      <td>2.0</td>\n",
       "      <td>9</td>\n",
       "      <td>1</td>\n",
       "      <td>1</td>\n",
       "      <td>0</td>\n",
       "      <td>2</td>\n",
       "    </tr>\n",
       "    <tr>\n",
       "      <th>3</th>\n",
       "      <td>615</td>\n",
       "      <td>1</td>\n",
       "      <td>2.5</td>\n",
       "      <td>0</td>\n",
       "      <td>0</td>\n",
       "      <td>0</td>\n",
       "      <td>10</td>\n",
       "      <td>0.8</td>\n",
       "      <td>Jigarrang</td>\n",
       "      <td>131</td>\n",
       "      <td>...</td>\n",
       "      <td>1216.0</td>\n",
       "      <td>1786.0</td>\n",
       "      <td>2769</td>\n",
       "      <td>16.0</td>\n",
       "      <td>8.0</td>\n",
       "      <td>11</td>\n",
       "      <td>1</td>\n",
       "      <td>0</td>\n",
       "      <td>0</td>\n",
       "      <td>2</td>\n",
       "    </tr>\n",
       "    <tr>\n",
       "      <th>4</th>\n",
       "      <td>1821</td>\n",
       "      <td>1</td>\n",
       "      <td>1.2</td>\n",
       "      <td>0</td>\n",
       "      <td>13</td>\n",
       "      <td>1</td>\n",
       "      <td>44</td>\n",
       "      <td>0.6</td>\n",
       "      <td>Oq</td>\n",
       "      <td>141</td>\n",
       "      <td>...</td>\n",
       "      <td>1208.0</td>\n",
       "      <td>1212.0</td>\n",
       "      <td>1411</td>\n",
       "      <td>8.0</td>\n",
       "      <td>2.0</td>\n",
       "      <td>15</td>\n",
       "      <td>1</td>\n",
       "      <td>1</td>\n",
       "      <td>0</td>\n",
       "      <td>1</td>\n",
       "    </tr>\n",
       "  </tbody>\n",
       "</table>\n",
       "<p>5 rows × 22 columns</p>\n",
       "</div>"
      ],
      "text/plain": [
       "   battereya_hajmi  blutus  protsessor_tezligi  ikkita simkartalik  \\\n",
       "0              842       0                 2.2                   0   \n",
       "1             1021       1                 0.5                   1   \n",
       "2              563       1                 0.5                   1   \n",
       "3              615       1                 2.5                   0   \n",
       "4             1821       1                 1.2                   0   \n",
       "\n",
       "   Oldi_kamera  4G  Ichki_xotira  tel_ingichgaligi      Rangi  Vazni  ...  \\\n",
       "0            1   0             7               0.6      Qizil    188  ...   \n",
       "1            0   1            53               0.7     Yashil    136  ...   \n",
       "2            2   1            41               0.9      Sariq    145  ...   \n",
       "3            0   0            10               0.8  Jigarrang    131  ...   \n",
       "4           13   1            44               0.6         Oq    141  ...   \n",
       "\n",
       "   Qurilma xajmi(pix)  Qurilma ekran kengligi(pix)   ram  Qurilma xajmi(cm)  \\\n",
       "0                20.0                        756.0  2549                9.0   \n",
       "1               905.0                       1988.0  2631               17.0   \n",
       "2              1263.0                       1716.0  2603               11.0   \n",
       "3              1216.0                       1786.0  2769               16.0   \n",
       "4              1208.0                       1212.0  1411                8.0   \n",
       "\n",
       "   Qurilma ekran kengligi(cm)  Bir_quvvatlashdagi gaplashish  3g  sensorli  \\\n",
       "0                         7.0                             19   0         0   \n",
       "1                         3.0                              7   1         1   \n",
       "2                         2.0                              9   1         1   \n",
       "3                         8.0                             11   1         0   \n",
       "4                         2.0                             15   1         1   \n",
       "\n",
       "   wifi  telefon_turi  \n",
       "0     1             1  \n",
       "1     0             2  \n",
       "2     0             2  \n",
       "3     0             2  \n",
       "4     0             1  \n",
       "\n",
       "[5 rows x 22 columns]"
      ]
     },
     "execution_count": 34,
     "metadata": {},
     "output_type": "execute_result"
    }
   ],
   "source": [
    "df.head()"
   ]
  },
  {
   "cell_type": "code",
   "execution_count": 4,
   "metadata": {},
   "outputs": [
    {
     "name": "stdout",
     "output_type": "stream",
     "text": [
      "<class 'pandas.core.frame.DataFrame'>\n",
      "RangeIndex: 2000 entries, 0 to 1999\n",
      "Data columns (total 21 columns):\n",
      " #   Column         Non-Null Count  Dtype  \n",
      "---  ------         --------------  -----  \n",
      " 0   battery_power  2000 non-null   int64  \n",
      " 1   blue           2000 non-null   int64  \n",
      " 2   clock_speed    2000 non-null   float64\n",
      " 3   dual_sim       2000 non-null   int64  \n",
      " 4   fc             2000 non-null   int64  \n",
      " 5   four_g         2000 non-null   int64  \n",
      " 6   int_memory     2000 non-null   int64  \n",
      " 7   m_dep          2000 non-null   float64\n",
      " 8   mobile_wt      2000 non-null   int64  \n",
      " 9   n_cores        2000 non-null   int64  \n",
      " 10  pc             2000 non-null   int64  \n",
      " 11  px_height      2000 non-null   int64  \n",
      " 12  px_width       2000 non-null   int64  \n",
      " 13  ram            2000 non-null   int64  \n",
      " 14  sc_h           2000 non-null   int64  \n",
      " 15  sc_w           2000 non-null   int64  \n",
      " 16  talk_time      2000 non-null   int64  \n",
      " 17  three_g        2000 non-null   int64  \n",
      " 18  touch_screen   2000 non-null   int64  \n",
      " 19  wifi           2000 non-null   int64  \n",
      " 20  price_range    2000 non-null   int64  \n",
      "dtypes: float64(2), int64(19)\n",
      "memory usage: 328.3 KB\n"
     ]
    }
   ],
   "source": [
    "df.info()"
   ]
  },
  {
   "cell_type": "code",
   "execution_count": 35,
   "metadata": {},
   "outputs": [
    {
     "data": {
      "text/plain": [
       "battereya_hajmi                  0\n",
       "blutus                           0\n",
       "protsessor_tezligi               0\n",
       "ikkita simkartalik               0\n",
       "Oldi_kamera                      0\n",
       "4G                               0\n",
       "Ichki_xotira                     0\n",
       "tel_ingichgaligi                 3\n",
       "Rangi                            0\n",
       "Vazni                            0\n",
       "Protsessor yadrolari soni        1\n",
       "Asosiy kamera                    2\n",
       "Qurilma xajmi(pix)               2\n",
       "Qurilma ekran kengligi(pix)      3\n",
       "ram                              0\n",
       "Qurilma xajmi(cm)                1\n",
       "Qurilma ekran kengligi(cm)       1\n",
       "Bir_quvvatlashdagi gaplashish    0\n",
       "3g                               0\n",
       "sensorli                         0\n",
       "wifi                             0\n",
       "telefon_turi                     0\n",
       "dtype: int64"
      ]
     },
     "execution_count": 35,
     "metadata": {},
     "output_type": "execute_result"
    }
   ],
   "source": [
    "df.isnull().sum()"
   ]
  },
  {
   "cell_type": "code",
   "execution_count": 39,
   "metadata": {},
   "outputs": [
    {
     "name": "stdout",
     "output_type": "stream",
     "text": [
      "['battereya_hajmi', 'blutus', 'protsessor_tezligi', 'ikkita simkartalik', 'Oldi_kamera', '4G', 'Ichki_xotira', 'tel_ingichgaligi', 'Rangi', 'Vazni', 'Protsessor yadrolari soni', 'Asosiy kamera', 'Qurilma xajmi(pix)', 'Qurilma ekran kengligi(pix)', 'ram', 'Qurilma xajmi(cm)', 'Qurilma ekran kengligi(cm)', 'Bir_quvvatlashdagi gaplashish', '3g', 'sensorli', 'wifi', 'telefon_turi']\n",
      "int64\n"
     ]
    }
   ],
   "source": [
    "print(list(df.columns.values))\n",
    "print(df['Vazni'].dtype)"
   ]
  },
  {
   "cell_type": "code",
   "execution_count": 40,
   "metadata": {},
   "outputs": [
    {
     "data": {
      "text/plain": [
       "battereya_hajmi                  0\n",
       "blutus                           0\n",
       "protsessor_tezligi               0\n",
       "ikkita simkartalik               0\n",
       "Oldi_kamera                      0\n",
       "4G                               0\n",
       "Ichki_xotira                     0\n",
       "tel_ingichgaligi                 0\n",
       "Rangi                            0\n",
       "Vazni                            0\n",
       "Protsessor yadrolari soni        0\n",
       "Asosiy kamera                    0\n",
       "Qurilma xajmi(pix)               0\n",
       "Qurilma ekran kengligi(pix)      0\n",
       "ram                              0\n",
       "Qurilma xajmi(cm)                0\n",
       "Qurilma ekran kengligi(cm)       0\n",
       "Bir_quvvatlashdagi gaplashish    0\n",
       "3g                               0\n",
       "sensorli                         0\n",
       "wifi                             0\n",
       "telefon_turi                     0\n",
       "dtype: int64"
      ]
     },
     "execution_count": 40,
     "metadata": {},
     "output_type": "execute_result"
    }
   ],
   "source": [
    "Columns = list(df.columns.values)\n",
    "for col in Columns:\n",
    "    if df[col].isnull().sum() > 0:\n",
    "        if df[col].dtype == 'object':\n",
    "            df[col] = df[col].fillna(df[col].mode()[0])\n",
    "        else:\n",
    "            df[col] = df[col].fillna(df[col].mean())\n",
    "df.head(5)\n",
    "df.isnull().sum()"
   ]
  },
  {
   "cell_type": "code",
   "execution_count": 41,
   "metadata": {},
   "outputs": [
    {
     "data": {
      "text/html": [
       "<div>\n",
       "<style scoped>\n",
       "    .dataframe tbody tr th:only-of-type {\n",
       "        vertical-align: middle;\n",
       "    }\n",
       "\n",
       "    .dataframe tbody tr th {\n",
       "        vertical-align: top;\n",
       "    }\n",
       "\n",
       "    .dataframe thead th {\n",
       "        text-align: right;\n",
       "    }\n",
       "</style>\n",
       "<table border=\"1\" class=\"dataframe\">\n",
       "  <thead>\n",
       "    <tr style=\"text-align: right;\">\n",
       "      <th></th>\n",
       "      <th>battereya_hajmi</th>\n",
       "      <th>blutus</th>\n",
       "      <th>protsessor_tezligi</th>\n",
       "      <th>ikkita simkartalik</th>\n",
       "      <th>Oldi_kamera</th>\n",
       "      <th>4G</th>\n",
       "      <th>Ichki_xotira</th>\n",
       "      <th>tel_ingichgaligi</th>\n",
       "      <th>Rangi</th>\n",
       "      <th>Vazni</th>\n",
       "      <th>...</th>\n",
       "      <th>Qurilma xajmi(pix)</th>\n",
       "      <th>Qurilma ekran kengligi(pix)</th>\n",
       "      <th>ram</th>\n",
       "      <th>Qurilma xajmi(cm)</th>\n",
       "      <th>Qurilma ekran kengligi(cm)</th>\n",
       "      <th>Bir_quvvatlashdagi gaplashish</th>\n",
       "      <th>3g</th>\n",
       "      <th>sensorli</th>\n",
       "      <th>wifi</th>\n",
       "      <th>telefon_turi</th>\n",
       "    </tr>\n",
       "  </thead>\n",
       "  <tbody>\n",
       "    <tr>\n",
       "      <th>0</th>\n",
       "      <td>842</td>\n",
       "      <td>0</td>\n",
       "      <td>2.2</td>\n",
       "      <td>0</td>\n",
       "      <td>1</td>\n",
       "      <td>0</td>\n",
       "      <td>7</td>\n",
       "      <td>0.6</td>\n",
       "      <td>Qizil</td>\n",
       "      <td>188</td>\n",
       "      <td>...</td>\n",
       "      <td>20.0</td>\n",
       "      <td>756.0</td>\n",
       "      <td>2549</td>\n",
       "      <td>9.0</td>\n",
       "      <td>7.0</td>\n",
       "      <td>19</td>\n",
       "      <td>0</td>\n",
       "      <td>0</td>\n",
       "      <td>1</td>\n",
       "      <td>1</td>\n",
       "    </tr>\n",
       "    <tr>\n",
       "      <th>1</th>\n",
       "      <td>1021</td>\n",
       "      <td>1</td>\n",
       "      <td>0.5</td>\n",
       "      <td>1</td>\n",
       "      <td>0</td>\n",
       "      <td>1</td>\n",
       "      <td>53</td>\n",
       "      <td>0.7</td>\n",
       "      <td>Yashil</td>\n",
       "      <td>136</td>\n",
       "      <td>...</td>\n",
       "      <td>905.0</td>\n",
       "      <td>1988.0</td>\n",
       "      <td>2631</td>\n",
       "      <td>17.0</td>\n",
       "      <td>3.0</td>\n",
       "      <td>7</td>\n",
       "      <td>1</td>\n",
       "      <td>1</td>\n",
       "      <td>0</td>\n",
       "      <td>2</td>\n",
       "    </tr>\n",
       "    <tr>\n",
       "      <th>2</th>\n",
       "      <td>563</td>\n",
       "      <td>1</td>\n",
       "      <td>0.5</td>\n",
       "      <td>1</td>\n",
       "      <td>2</td>\n",
       "      <td>1</td>\n",
       "      <td>41</td>\n",
       "      <td>0.9</td>\n",
       "      <td>Sariq</td>\n",
       "      <td>145</td>\n",
       "      <td>...</td>\n",
       "      <td>1263.0</td>\n",
       "      <td>1716.0</td>\n",
       "      <td>2603</td>\n",
       "      <td>11.0</td>\n",
       "      <td>2.0</td>\n",
       "      <td>9</td>\n",
       "      <td>1</td>\n",
       "      <td>1</td>\n",
       "      <td>0</td>\n",
       "      <td>2</td>\n",
       "    </tr>\n",
       "    <tr>\n",
       "      <th>3</th>\n",
       "      <td>615</td>\n",
       "      <td>1</td>\n",
       "      <td>2.5</td>\n",
       "      <td>0</td>\n",
       "      <td>0</td>\n",
       "      <td>0</td>\n",
       "      <td>10</td>\n",
       "      <td>0.8</td>\n",
       "      <td>Jigarrang</td>\n",
       "      <td>131</td>\n",
       "      <td>...</td>\n",
       "      <td>1216.0</td>\n",
       "      <td>1786.0</td>\n",
       "      <td>2769</td>\n",
       "      <td>16.0</td>\n",
       "      <td>8.0</td>\n",
       "      <td>11</td>\n",
       "      <td>1</td>\n",
       "      <td>0</td>\n",
       "      <td>0</td>\n",
       "      <td>2</td>\n",
       "    </tr>\n",
       "    <tr>\n",
       "      <th>4</th>\n",
       "      <td>1821</td>\n",
       "      <td>1</td>\n",
       "      <td>1.2</td>\n",
       "      <td>0</td>\n",
       "      <td>13</td>\n",
       "      <td>1</td>\n",
       "      <td>44</td>\n",
       "      <td>0.6</td>\n",
       "      <td>Oq</td>\n",
       "      <td>141</td>\n",
       "      <td>...</td>\n",
       "      <td>1208.0</td>\n",
       "      <td>1212.0</td>\n",
       "      <td>1411</td>\n",
       "      <td>8.0</td>\n",
       "      <td>2.0</td>\n",
       "      <td>15</td>\n",
       "      <td>1</td>\n",
       "      <td>1</td>\n",
       "      <td>0</td>\n",
       "      <td>1</td>\n",
       "    </tr>\n",
       "  </tbody>\n",
       "</table>\n",
       "<p>5 rows × 22 columns</p>\n",
       "</div>"
      ],
      "text/plain": [
       "   battereya_hajmi  blutus  protsessor_tezligi  ikkita simkartalik  \\\n",
       "0              842       0                 2.2                   0   \n",
       "1             1021       1                 0.5                   1   \n",
       "2              563       1                 0.5                   1   \n",
       "3              615       1                 2.5                   0   \n",
       "4             1821       1                 1.2                   0   \n",
       "\n",
       "   Oldi_kamera  4G  Ichki_xotira  tel_ingichgaligi      Rangi  Vazni  ...  \\\n",
       "0            1   0             7               0.6      Qizil    188  ...   \n",
       "1            0   1            53               0.7     Yashil    136  ...   \n",
       "2            2   1            41               0.9      Sariq    145  ...   \n",
       "3            0   0            10               0.8  Jigarrang    131  ...   \n",
       "4           13   1            44               0.6         Oq    141  ...   \n",
       "\n",
       "   Qurilma xajmi(pix)  Qurilma ekran kengligi(pix)   ram  Qurilma xajmi(cm)  \\\n",
       "0                20.0                        756.0  2549                9.0   \n",
       "1               905.0                       1988.0  2631               17.0   \n",
       "2              1263.0                       1716.0  2603               11.0   \n",
       "3              1216.0                       1786.0  2769               16.0   \n",
       "4              1208.0                       1212.0  1411                8.0   \n",
       "\n",
       "   Qurilma ekran kengligi(cm)  Bir_quvvatlashdagi gaplashish  3g  sensorli  \\\n",
       "0                         7.0                             19   0         0   \n",
       "1                         3.0                              7   1         1   \n",
       "2                         2.0                              9   1         1   \n",
       "3                         8.0                             11   1         0   \n",
       "4                         2.0                             15   1         1   \n",
       "\n",
       "   wifi  telefon_turi  \n",
       "0     1             1  \n",
       "1     0             2  \n",
       "2     0             2  \n",
       "3     0             2  \n",
       "4     0             1  \n",
       "\n",
       "[5 rows x 22 columns]"
      ]
     },
     "execution_count": 41,
     "metadata": {},
     "output_type": "execute_result"
    }
   ],
   "source": [
    "df.head()"
   ]
  },
  {
   "cell_type": "code",
   "execution_count": 42,
   "metadata": {},
   "outputs": [
    {
     "name": "stdout",
     "output_type": "stream",
     "text": [
      "<class 'pandas.core.frame.DataFrame'>\n",
      "RangeIndex: 2000 entries, 0 to 1999\n",
      "Data columns (total 22 columns):\n",
      " #   Column                         Non-Null Count  Dtype  \n",
      "---  ------                         --------------  -----  \n",
      " 0   battereya_hajmi                2000 non-null   int64  \n",
      " 1   blutus                         2000 non-null   int64  \n",
      " 2   protsessor_tezligi             2000 non-null   float64\n",
      " 3   ikkita simkartalik             2000 non-null   int64  \n",
      " 4   Oldi_kamera                    2000 non-null   int64  \n",
      " 5   4G                             2000 non-null   int64  \n",
      " 6   Ichki_xotira                   2000 non-null   int64  \n",
      " 7   tel_ingichgaligi               2000 non-null   float64\n",
      " 8   Rangi                          2000 non-null   object \n",
      " 9   Vazni                          2000 non-null   int64  \n",
      " 10  Protsessor yadrolari soni      2000 non-null   float64\n",
      " 11  Asosiy kamera                  2000 non-null   float64\n",
      " 12  Qurilma xajmi(pix)             2000 non-null   float64\n",
      " 13  Qurilma ekran kengligi(pix)    2000 non-null   float64\n",
      " 14  ram                            2000 non-null   int64  \n",
      " 15  Qurilma xajmi(cm)              2000 non-null   float64\n",
      " 16  Qurilma ekran kengligi(cm)     2000 non-null   float64\n",
      " 17  Bir_quvvatlashdagi gaplashish  2000 non-null   int64  \n",
      " 18  3g                             2000 non-null   int64  \n",
      " 19  sensorli                       2000 non-null   int64  \n",
      " 20  wifi                           2000 non-null   int64  \n",
      " 21  telefon_turi                   2000 non-null   int64  \n",
      "dtypes: float64(8), int64(13), object(1)\n",
      "memory usage: 343.9+ KB\n"
     ]
    }
   ],
   "source": [
    "df.info()"
   ]
  },
  {
   "cell_type": "code",
   "execution_count": 43,
   "metadata": {},
   "outputs": [],
   "source": [
    "cardinality=df.nunique()"
   ]
  },
  {
   "cell_type": "code",
   "execution_count": 44,
   "metadata": {},
   "outputs": [],
   "source": [
    "num_col=df.select_dtypes(include=['float64','int64']).columns"
   ]
  },
  {
   "cell_type": "code",
   "execution_count": 45,
   "metadata": {},
   "outputs": [],
   "source": [
    "cat_col=df.select_dtypes(include=['object']).columns"
   ]
  },
  {
   "cell_type": "code",
   "execution_count": 46,
   "metadata": {},
   "outputs": [],
   "source": [
    "cat_col=df.select_dtypes(include=['object']).columns"
   ]
  },
  {
   "cell_type": "code",
   "execution_count": 47,
   "metadata": {},
   "outputs": [
    {
     "data": {
      "text/plain": [
       "Index(['Rangi'], dtype='object')"
      ]
     },
     "execution_count": 47,
     "metadata": {},
     "output_type": "execute_result"
    }
   ],
   "source": [
    "cat_col"
   ]
  },
  {
   "cell_type": "code",
   "execution_count": 49,
   "metadata": {},
   "outputs": [
    {
     "data": {
      "text/plain": [
       "Rangi    6\n",
       "dtype: int64"
      ]
     },
     "execution_count": 49,
     "metadata": {},
     "output_type": "execute_result"
    }
   ],
   "source": [
    "cardinality=df[cat_col].nunique()\n",
    "cardinality"
   ]
  },
  {
   "cell_type": "code",
   "execution_count": 50,
   "metadata": {},
   "outputs": [],
   "source": [
    "for col in cat_col:\n",
    "    cardinality = df[col].nunique()\n",
    "    if cardinality >= 5:\n",
    "        # one-hot encoding\n",
    "        dummies = pd.get_dummies(df[col], prefix=col, dtype=int)\n",
    "        # Drop the original column and concatenate the dummy variables\n",
    "        df = pd.concat([df.drop(col, axis=1), dummies], axis=1)\n",
    "    else:\n",
    "        # Apply label encoding\n",
    "        df[col] = encoder.fit_transform(df[col])"
   ]
  },
  {
   "cell_type": "code",
   "execution_count": 51,
   "metadata": {},
   "outputs": [
    {
     "name": "stdout",
     "output_type": "stream",
     "text": [
      "<class 'pandas.core.frame.DataFrame'>\n",
      "RangeIndex: 2000 entries, 0 to 1999\n",
      "Data columns (total 27 columns):\n",
      " #   Column                         Non-Null Count  Dtype  \n",
      "---  ------                         --------------  -----  \n",
      " 0   battereya_hajmi                2000 non-null   int64  \n",
      " 1   blutus                         2000 non-null   int64  \n",
      " 2   protsessor_tezligi             2000 non-null   float64\n",
      " 3   ikkita simkartalik             2000 non-null   int64  \n",
      " 4   Oldi_kamera                    2000 non-null   int64  \n",
      " 5   4G                             2000 non-null   int64  \n",
      " 6   Ichki_xotira                   2000 non-null   int64  \n",
      " 7   tel_ingichgaligi               2000 non-null   float64\n",
      " 8   Vazni                          2000 non-null   int64  \n",
      " 9   Protsessor yadrolari soni      2000 non-null   float64\n",
      " 10  Asosiy kamera                  2000 non-null   float64\n",
      " 11  Qurilma xajmi(pix)             2000 non-null   float64\n",
      " 12  Qurilma ekran kengligi(pix)    2000 non-null   float64\n",
      " 13  ram                            2000 non-null   int64  \n",
      " 14  Qurilma xajmi(cm)              2000 non-null   float64\n",
      " 15  Qurilma ekran kengligi(cm)     2000 non-null   float64\n",
      " 16  Bir_quvvatlashdagi gaplashish  2000 non-null   int64  \n",
      " 17  3g                             2000 non-null   int64  \n",
      " 18  sensorli                       2000 non-null   int64  \n",
      " 19  wifi                           2000 non-null   int64  \n",
      " 20  telefon_turi                   2000 non-null   int64  \n",
      " 21  Rangi_Jigarrang                2000 non-null   int64  \n",
      " 22  Rangi_Oq                       2000 non-null   int64  \n",
      " 23  Rangi_Qizil                    2000 non-null   int64  \n",
      " 24  Rangi_Qora                     2000 non-null   int64  \n",
      " 25  Rangi_Sariq                    2000 non-null   int64  \n",
      " 26  Rangi_Yashil                   2000 non-null   int64  \n",
      "dtypes: float64(8), int64(19)\n",
      "memory usage: 422.0 KB\n"
     ]
    }
   ],
   "source": [
    "df.info()"
   ]
  },
  {
   "cell_type": "code",
   "execution_count": 52,
   "metadata": {},
   "outputs": [
    {
     "name": "stdout",
     "output_type": "stream",
     "text": [
      "Requirement already satisfied: datacleaner in /opt/anaconda3/lib/python3.12/site-packages (0.1.5)\n",
      "Requirement already satisfied: pandas in /opt/anaconda3/lib/python3.12/site-packages (from datacleaner) (2.2.2)\n",
      "Requirement already satisfied: scikit-learn in /opt/anaconda3/lib/python3.12/site-packages (from datacleaner) (1.6.1)\n",
      "Requirement already satisfied: update-checker in /opt/anaconda3/lib/python3.12/site-packages (from datacleaner) (0.18.0)\n",
      "Requirement already satisfied: numpy>=1.26.0 in /opt/anaconda3/lib/python3.12/site-packages (from pandas->datacleaner) (1.26.4)\n",
      "Requirement already satisfied: python-dateutil>=2.8.2 in /opt/anaconda3/lib/python3.12/site-packages (from pandas->datacleaner) (2.9.0.post0)\n",
      "Requirement already satisfied: pytz>=2020.1 in /opt/anaconda3/lib/python3.12/site-packages (from pandas->datacleaner) (2024.1)\n",
      "Requirement already satisfied: tzdata>=2022.7 in /opt/anaconda3/lib/python3.12/site-packages (from pandas->datacleaner) (2023.3)\n",
      "Requirement already satisfied: scipy>=1.6.0 in /opt/anaconda3/lib/python3.12/site-packages (from scikit-learn->datacleaner) (1.13.1)\n",
      "Requirement already satisfied: joblib>=1.2.0 in /opt/anaconda3/lib/python3.12/site-packages (from scikit-learn->datacleaner) (1.4.2)\n",
      "Requirement already satisfied: threadpoolctl>=3.1.0 in /opt/anaconda3/lib/python3.12/site-packages (from scikit-learn->datacleaner) (3.5.0)\n",
      "Requirement already satisfied: requests>=2.3.0 in /opt/anaconda3/lib/python3.12/site-packages (from update-checker->datacleaner) (2.32.3)\n",
      "Requirement already satisfied: six>=1.5 in /opt/anaconda3/lib/python3.12/site-packages (from python-dateutil>=2.8.2->pandas->datacleaner) (1.16.0)\n",
      "Requirement already satisfied: charset-normalizer<4,>=2 in /opt/anaconda3/lib/python3.12/site-packages (from requests>=2.3.0->update-checker->datacleaner) (3.3.2)\n",
      "Requirement already satisfied: idna<4,>=2.5 in /opt/anaconda3/lib/python3.12/site-packages (from requests>=2.3.0->update-checker->datacleaner) (3.7)\n",
      "Requirement already satisfied: urllib3<3,>=1.21.1 in /opt/anaconda3/lib/python3.12/site-packages (from requests>=2.3.0->update-checker->datacleaner) (2.2.3)\n",
      "Requirement already satisfied: certifi>=2017.4.17 in /opt/anaconda3/lib/python3.12/site-packages (from requests>=2.3.0->update-checker->datacleaner) (2024.8.30)\n",
      "Note: you may need to restart the kernel to use updated packages.\n"
     ]
    }
   ],
   "source": [
    "pip install datacleaner"
   ]
  },
  {
   "cell_type": "code",
   "execution_count": 53,
   "metadata": {},
   "outputs": [],
   "source": [
    "from datacleaner import autoclean"
   ]
  },
  {
   "cell_type": "code",
   "execution_count": 54,
   "metadata": {},
   "outputs": [
    {
     "name": "stderr",
     "output_type": "stream",
     "text": [
      "/opt/anaconda3/lib/python3.12/site-packages/datacleaner/datacleaner.py:77: FutureWarning: A value is trying to be set on a copy of a DataFrame or Series through chained assignment using an inplace method.\n",
      "The behavior will change in pandas 3.0. This inplace method will never work because the intermediate object on which we are setting values always behaves as a copy.\n",
      "\n",
      "For example, when doing 'df[col].method(value, inplace=True)', try using 'df.method({col: value}, inplace=True)' or df[col] = df[col].method(value) instead, to perform the operation inplace on the original object.\n",
      "\n",
      "\n",
      "  input_dataframe[column].fillna(input_dataframe[column].median(), inplace=True)\n"
     ]
    }
   ],
   "source": [
    "df  = autoclean(df)"
   ]
  },
  {
   "cell_type": "code",
   "execution_count": 30,
   "metadata": {},
   "outputs": [
    {
     "name": "stdout",
     "output_type": "stream",
     "text": [
      "<class 'pandas.core.frame.DataFrame'>\n",
      "RangeIndex: 8807 entries, 0 to 8806\n",
      "Columns: 8818 entries, type to show_id_s999\n",
      "dtypes: int64(8818)\n",
      "memory usage: 592.5 MB\n"
     ]
    }
   ],
   "source": [
    "df.info()"
   ]
  },
  {
   "cell_type": "code",
   "execution_count": null,
   "metadata": {},
   "outputs": [],
   "source": []
  }
 ],
 "metadata": {
  "kernelspec": {
   "display_name": "base",
   "language": "python",
   "name": "python3"
  },
  "language_info": {
   "codemirror_mode": {
    "name": "ipython",
    "version": 3
   },
   "file_extension": ".py",
   "mimetype": "text/x-python",
   "name": "python",
   "nbconvert_exporter": "python",
   "pygments_lexer": "ipython3",
   "version": "3.12.7"
  }
 },
 "nbformat": 4,
 "nbformat_minor": 2
}
