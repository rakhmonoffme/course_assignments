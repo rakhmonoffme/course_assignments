{
 "cells": [
  {
   "cell_type": "code",
   "execution_count": 2,
   "metadata": {},
   "outputs": [],
   "source": [
    "import pandas as pd\n",
    "import numpy as np"
   ]
  },
  {
   "cell_type": "markdown",
   "metadata": {},
   "source": [
    "# Berilgan so'zni for loop yordamida xar bir xarfini ekranga chiqaring"
   ]
  },
  {
   "cell_type": "code",
   "execution_count": 3,
   "metadata": {},
   "outputs": [
    {
     "name": "stdout",
     "output_type": "stream",
     "text": [
      "U\n",
      "z\n",
      "b\n",
      "e\n",
      "k\n",
      "i\n",
      "s\n",
      "t\n",
      "a\n",
      "n\n"
     ]
    }
   ],
   "source": [
    "a = \"Uzbekistan\"\n",
    "for i in range(len(a)):\n",
    "    print(a[i])"
   ]
  },
  {
   "cell_type": "markdown",
   "metadata": {},
   "source": [
    "# Berilgan sonlar oraligidan faqat juft sonlarni yigindisi va kopaytmasini toping(range step orqali va if orqali)"
   ]
  },
  {
   "cell_type": "code",
   "execution_count": 2,
   "metadata": {},
   "outputs": [
    {
     "name": "stdout",
     "output_type": "stream",
     "text": [
      "yigindisi: 182\n",
      "kopaytmasi: 51011754393600\n"
     ]
    }
   ],
   "source": [
    "sum = 0\n",
    "mul = 1\n",
    "for i in range(1, 27):\n",
    "    if i % 2 == 0:\n",
    "        sum += i\n",
    "        mul *= i\n",
    "print(f'yigindisi: {sum}')\n",
    "print(f'kopaytmasi: {mul}')\n",
    "\n",
    "        "
   ]
  },
  {
   "cell_type": "markdown",
   "metadata": {},
   "source": [
    "# Berilgan rangeda berilgan juft va toq sonlarni miqdorini aniqlang"
   ]
  },
  {
   "cell_type": "code",
   "execution_count": 4,
   "metadata": {},
   "outputs": [
    {
     "name": "stdout",
     "output_type": "stream",
     "text": [
      "Juft sonlar soni: 72\n",
      "Toq sonlar soni: 72\n"
     ]
    }
   ],
   "source": [
    "juft = 0\n",
    "toq = 0\n",
    "for i in range(1, 145):\n",
    "    if i % 2 == 0:\n",
    "        juft += 1\n",
    "    else:\n",
    "        toq += 1\n",
    "print(f'Juft sonlar soni: {juft}')\n",
    "print(f'Toq sonlar soni: {toq}')\n"
   ]
  },
  {
   "cell_type": "markdown",
   "metadata": {},
   "source": [
    "# Berilgan rangeda 3 ga va 5 ga karrali sonlar miqdorini aniqlang"
   ]
  },
  {
   "cell_type": "code",
   "execution_count": 5,
   "metadata": {},
   "outputs": [
    {
     "name": "stdout",
     "output_type": "stream",
     "text": [
      "6\n"
     ]
    }
   ],
   "source": [
    "a = 0\n",
    "for i in range(1,100):\n",
    "    if i % 3 == 0 and i % 5 == 0:\n",
    "        a += 1\n",
    "print(a)\n"
   ]
  }
 ],
 "metadata": {
  "kernelspec": {
   "display_name": "base",
   "language": "python",
   "name": "python3"
  },
  "language_info": {
   "codemirror_mode": {
    "name": "ipython",
    "version": 3
   },
   "file_extension": ".py",
   "mimetype": "text/x-python",
   "name": "python",
   "nbconvert_exporter": "python",
   "pygments_lexer": "ipython3",
   "version": "3.12.7"
  }
 },
 "nbformat": 4,
 "nbformat_minor": 2
}
