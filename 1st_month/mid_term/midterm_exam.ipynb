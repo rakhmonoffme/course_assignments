{
 "cells": [
  {
   "cell_type": "markdown",
   "metadata": {
    "vscode": {
     "languageId": "raw"
    }
   },
   "source": [
    "1. AI va ML nima va ularning qanday farqi bor?\n",
    "\n",
    "AI va ML -  data va algoritmlar yordamida ma'lumotlarni o'rganish, tahlil qilish, aniqlash va predict qilishda ishlatiladi.\n",
    "Farqi, ML AI ning bir qismi, ya'ni AI boshqa sohalari ham bor. "
   ]
  },
  {
   "cell_type": "markdown",
   "metadata": {
    "vscode": {
     "languageId": "raw"
    }
   },
   "source": [
    "2. Data qanday bo’lishi kerak va biz qanday turdagi datasertlardan foydalanamiz?\n",
    "\n",
    "Data - toza, sohaga tegishli, to'liq bo'lishi kerak. Datasetlar turli xil audio, video, text, table shaklda bo'lishi mumkin. Biz MLning SLning qismida structured dataset (table) dan foydalanamiz.\n",
    "\n",
    "\n"
   ]
  },
  {
   "cell_type": "markdown",
   "metadata": {},
   "source": [
    "3. Qanday qilib Mlni turlarga ajratamiz va uning qanday turlari bor?\n",
    "\n",
    "Berilayotgan data va uni ustida qanday ishlashga qarab turlarga ajratamiz. \n",
    "Supervised ML - berilgan input va output orasidagi pattern, bog'liqlikni o'rganib predict qilish\n",
    "Unsupervised - faqat berilgan inputlar orasidagi oxshashlik, bogliglikka qarab guruhlash. \n"
   ]
  },
  {
   "cell_type": "markdown",
   "metadata": {},
   "source": [
    "4. Regression Ml nima? Uning Classificationdan farqi?\n",
    "\n",
    "regression ML - berilgan datani tahlil qilib, orasidagi bog'liqlik asosida cheksiz qiymatli natijalarni predict qilish. \n",
    "Classification - berilgan datani tahlil qilib,  chekli qiymatlarga ajratish.  \n",
    "\n"
   ]
  },
  {
   "cell_type": "markdown",
   "metadata": {},
   "source": [
    "5. Classification qanday turlarga bo’linadi? Ularning bir biridan farqi?(Misollar orqali)\n",
    "\n",
    "Classification ikkita turi bor:\n",
    "- Binary classification: ikki qiymatdan birigina predict qilish. qiymatlar \"ha\" yoki \" yo'q\", \"to'g'ri\" yoki \"noto'g'ri\" kategoriyalik. \n",
    "- Multi class classification: bir necha qiymatlardan birini predict qilish. masalan, ob havoni predict qilish. qiymatari: quyoshli, bulutli, tuman bo'lishi mumkin"
   ]
  },
  {
   "cell_type": "markdown",
   "metadata": {},
   "source": [
    "6. Ml model ketma ketligi?\n",
    "Data collection --> Data tanishuv --> Data preprocessing --> Model selection --> Model training --> Evaluation --> Model optimization --> Model testing --> Model report --> Deployment\n",
    "\n"
   ]
  },
  {
   "cell_type": "markdown",
   "metadata": {},
   "source": [
    "7. Data Preprocessing nima? Nimalardan tashkil topgan?\n",
    "\n",
    "Data Preprocessing - datani training uchun tayyorlash. Masalan, qoldirilgan malumotlarni toldirish, irrelative qismlarni olib tashlash, encoding and etc.. "
   ]
  },
  {
   "cell_type": "markdown",
   "metadata": {},
   "source": [
    "8. Tushurib qoldirilgan qiymatlarni nima uchun to’ldirishimiz kerak?\n",
    "\n",
    "Datani to'liq bo'lishi va aniq output olish"
   ]
  },
  {
   "cell_type": "markdown",
   "metadata": {},
   "source": [
    "9. Tushurib qoldirigan qiymatlarni xal etishni qanday usullari mavjud?\n",
    "\n",
    "Dropping irrelative values, replacing with mean, mode. fixing"
   ]
  },
  {
   "cell_type": "markdown",
   "metadata": {},
   "source": [
    "10. Qanday Kutubxonalar mavjud va ularning vazifalari?\n",
    "\n",
    "Masalan, Pandas, Numpy, Seaborn, Matlpotlib va Scikit-learn.\n",
    "pandas - datani yuklash va manipulatsiya qilish, \n",
    "numpy - matematik va statistik amal, tahlil bajarish, \n",
    "matplotlib - datani visual ko'rsatish, \n",
    "seaborn - dataning statistik tahlilini visual graflar yordamida ko'rsatish, \n",
    "sklearn - data preprocessing, model seletion, training, testing uchun ishlatiladi."
   ]
  },
  {
   "cell_type": "markdown",
   "metadata": {},
   "source": [
    "11. Qaysi kod orqali matplotlibda chizmani ekranga chiqaradi?\n",
    "\n",
    "plt.show()"
   ]
  },
  {
   "cell_type": "markdown",
   "metadata": {},
   "source": [
    "12.  Encoding nima va uni qanday turlari bor?\n",
    "\n",
    "Encoding categorical datani (object dtype) numerical datatypega aylantirish. Uning one-hot, labeling, targeting va frequency turlari bor."
   ]
  },
  {
   "cell_type": "markdown",
   "metadata": {},
   "source": [
    "13. Cardinality nima? Kursimizda nima uchun cardinalityni ishlatamiz?\n",
    "\n",
    "Cardinality columndagi unique classlar soni. One-hot yoki Label encoding qaysi birini tanlashda ishlatamiz. Sababi unique classlar soni 5 tadan ko'p bo'lsa one-hot encodingga qo'yish xato, sababi one-hot encoding unique classlar soniga qarab yangi columnlar yaratadi.\n",
    "\n"
   ]
  },
  {
   "cell_type": "markdown",
   "metadata": {},
   "source": [
    "14. f-string nima?Nima uchun ishlatamiz?\n",
    "\n",
    "f-string - print qilish jarayonida stringli output ichida figurali qavs {} orqali qiymatni aniq ko'rish va osonroq tushinish uchun ishlatiladi."
   ]
  },
  {
   "cell_type": "markdown",
   "metadata": {},
   "source": [
    "15. Condition nima? Uning Ml dagi vazifasi?\n",
    "Condition pythondagi syntax statement. U MLda logika orqali decision making, controlling, filtering qilishda ishlatiladi.\n",
    "\n"
   ]
  },
  {
   "cell_type": "markdown",
   "metadata": {},
   "source": [
    "16. ‘Hello’ so’zini oxirdan ikkinchi o’rinda va uchunchi o’rinda turgan xarflarini bir xilligini ko’rishimiz uchun nima qilamiz?\n",
    "\n",
    "a = 'Hello' a[-2] == a[-3]"
   ]
  }
 ],
 "metadata": {
  "language_info": {
   "name": "python"
  }
 },
 "nbformat": 4,
 "nbformat_minor": 2
}
