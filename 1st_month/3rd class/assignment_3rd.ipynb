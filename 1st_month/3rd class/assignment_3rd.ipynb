{
 "cells": [
  {
   "cell_type": "markdown",
   "metadata": {},
   "source": [
    "# Q & A"
   ]
  },
  {
   "cell_type": "markdown",
   "metadata": {},
   "source": [
    "\n",
    "• Classificationga doir o’zingiz 4 ta misol toping va dataset yarating(misoldagidek) \n",
    "\n",
    "1. Qaysi irqqa mannsubligini aniqlaydigan programma. Features: skin color, hair density, eye shape and etc\n",
    "2. online kiyim dokoni uchun mahsulotlarni katergoriyalash. Features: usage, season to wear, texture type, material type and etc\n",
    "3. Tilninng qaysi oilaga mansubligini aniqlash. Features: suffixes, origin of words, prefixes and etc\n",
    "4. Ob havoni umumlashtirish: quyoshli, bulutli, qor, yomgirli.. Features: temperature, humidity level, wind and etc\n",
    "\n",
    "• Regressionga doir o’zingiz 4 ta misol toping va dataset yarating(misoldagidek)\n",
    "\n",
    "1. Talabni aniqlash biror mahsulotga. Features: historical sales data, time of the year, seasonal trends...\n",
    "2. Ob havo temperaturani predict qilish. Features: humidity level, clouds, sun level, season\n",
    "3. Mashina qancha benzin sarflashini tahmin qilish. Features: speed, engine size, weight\n",
    "4. Navigationda qanncha vaqt ketishini predict qilish. Features: time of the day, traffic lights, type of the road, number of vehicles if available\n",
    "\n",
    "• O’tilgan mavzu bo’yicha tushungalarizni qisqacha bayon qiling\n",
    "\n",
    "In short, chekli qiymat predict qilish uchun yoki kategoriyaga ajratish uchun classification, continious numerical value uchun regression. \n",
    "\n",
    "• Takliflar va savollar bering\n",
    "\n",
    "____"
   ]
  },
  {
   "cell_type": "markdown",
   "metadata": {},
   "source": []
  }
 ],
 "metadata": {
  "language_info": {
   "name": "python"
  }
 },
 "nbformat": 4,
 "nbformat_minor": 2
}
