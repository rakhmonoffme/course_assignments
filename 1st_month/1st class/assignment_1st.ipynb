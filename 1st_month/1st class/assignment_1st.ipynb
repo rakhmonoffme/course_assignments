{
 "cells": [
  {
   "cell_type": "code",
   "execution_count": null,
   "metadata": {},
   "outputs": [],
   "source": []
  },
  {
   "cell_type": "markdown",
   "metadata": {},
   "source": [
    "# Q & A"
   ]
  },
  {
   "cell_type": "markdown",
   "metadata": {},
   "source": [
    "1-savol: Machine learning xayotimizda qayerlarda uchrashi mumkin (PPT da aytilgan va aytilmagan\n",
    "misollarni yozing)?\n",
    "\n",
    "Social media targeted contents, camera filters in camera apps using facial recognition\n",
    "  \n",
    "2-savol: O’yin o’ynay oladigan dastur yaratgan olim kim?\n",
    "\n",
    "Alan Turing\n",
    "\n",
    "3-savol: Machine learning qanday fan? Qisqa so’zlar bilan tushuntiring.\n",
    "\n",
    "Komputerga datasetdan o'rganib, shunga asoslangan holda ishlay olishni orgatish\n",
    "\n",
    "\n",
    "4-savol: Jadvaldagi tadiqiqotlardan qaysi biri siz uchun eng qiziq bo’ldi. Javobingizni qisqacha so’zlar bilan izohlang.\n",
    "\n",
    "Shashka o'ynay oladigan dastur. Juda ko'p yo'llarni orasida nimaga asoslanib togri yolni tanlash olishi qiziq\n",
    "\n",
    "5-savol: Nima uchun Machine learningni o’rganishimiz uchun dastlab Human learningni bilishimiz\n",
    "kerak?\n",
    "\n",
    "O'rganish qanday sodir bolishi togrisida fundamental asos beradi. Qanday organilishni bilish yahshiroq, osonroq orgatishga asos manosida. \n",
    "\n",
    "6-savol: O’rganish turlaridan qaysi biri eng muhim va nima uchun?\n",
    "\n",
    "bilimlar orqali organish\n",
    "\n",
    "\n"
   ]
  },
  {
   "cell_type": "markdown",
   "metadata": {},
   "source": [
    "1-savol: Mlni deganda shu kungacha nimani tushunar edingiz?\n",
    "\n",
    "__\n",
    "\n",
    "• 2-savol: Ml deganda endi nimani tushunasiz?\n",
    "\n",
    "datani tahlil qilish va shu yordamida biror hodisani oldindan aytib bera olishni komputerga orgatish\n",
    "\n",
    "• 3-savol: Jadvaldagi bosqichlardan sizningcha eng muhimi qaysi?\n",
    "\n",
    "Menimcha, tahlil qilish va ularni organish. \n",
    "\n",
    "• 4-savol: Organilgan tajriba keyingi muammoga tadbiq qilingandagi asosiy xususiyat nima bolishi kerak?\n",
    "\n",
    "keyingi muammoga qanchalik kerakli yoki keraksiz ekanligi, menimcha. "
   ]
  },
  {
   "cell_type": "markdown",
   "metadata": {},
   "source": [
    "1-savol: Mavzuda o’tilgan imtixonga tayyorgarlik misolida aytilganidek o’rganilayotgan malumotlar\n",
    "ko’payganda asosiy kerakli narsa nima?\n",
    "\n",
    "xulosa qilib, tadbiq qila olish\n",
    "\n",
    "• 2-savol: Malumotlarni ishlatishdan oldin qilinadigan ishlar nima va nima uchun u bosqichlarni amalga oshirishimiz kerak?\n",
    "\n",
    "Malumotlarni tozalash. Sifatli malumot samaradorlikni taminlaydi. \n",
    "\n",
    "• 3-savol: Butun mavzu bo’yicha olingan xulosalaringizni tushuntirib bering.\n",
    "\n",
    "Qisqa qilib aytganda, ML ni bir studentga oqituvchisini orgatishi deb tushunsa bolarkan. Deylik, oqituvchi kerakli bilimlarni beradida oquvchi shuni tahlil qila olib uni tadbiq qila olishni organadi. Aytaylik, oqituvchini abiturientni tayyorlashi. Hamma testlarni ishlab korsatishi shart emas, lekin kerakli bilimlar bilan oquvchini fikrlashga orgatib qoyishi muhim. Testda turli xil savollarni shu bilimlarga asoslanib ishlay olishi. Komputer bilan ham xuddi shunday holat. Data orqali organib, shunga asoslangan holatda qaror bera olish"
   ]
  },
  {
   "cell_type": "markdown",
   "metadata": {},
   "source": []
  }
 ],
 "metadata": {
  "kernelspec": {
   "display_name": "Python 3",
   "language": "python",
   "name": "python3"
  },
  "language_info": {
   "codemirror_mode": {
    "name": "ipython",
    "version": 3
   },
   "file_extension": ".py",
   "mimetype": "text/x-python",
   "name": "python",
   "nbconvert_exporter": "python",
   "pygments_lexer": "ipython3",
   "version": "3.10.0"
  }
 },
 "nbformat": 4,
 "nbformat_minor": 2
}
