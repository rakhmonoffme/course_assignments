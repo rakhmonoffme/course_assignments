{
 "cells": [
  {
   "cell_type": "code",
   "execution_count": null,
   "metadata": {},
   "outputs": [],
   "source": []
  },
  {
   "cell_type": "markdown",
   "metadata": {},
   "source": [
    "# Q & A"
   ]
  },
  {
   "cell_type": "markdown",
   "metadata": {},
   "source": []
  },
  {
   "cell_type": "markdown",
   "metadata": {},
   "source": [
    "1-savol: Jadvaldagi muammo nima qatoridagi uy narxini predict qilish misoliga o’xshash 2 ta\n",
    "misol toping va misoldagidek kerakli farazlar(feature) ro’yhatini tuzing\n",
    "\n",
    "life expectancy ni odamning tana holatiga qarab predict qilish. Farazlar: kasallikka chalinish intervali, cholestrol leveli, uxlash vaqti, obesity level, bir hafta davomida harakatchanlik qobiliyati va hk. \n",
    "\n",
    "futboldagi oyinda qaysi jamoaning yutishini predict qilish. Featurelar: oxirgi 10 ta oyindagi urilgann gollar, qarshi oynalgan average team ratingi, otkazib yuborilgan gollar, jamolar head-to-head statistikasi va hk\n",
    "\n",
    "• 2-savol: 1- savolda tuzilgan 2 ta misol uchun muammoni yechishdan maqsadni yozing\n",
    "\n",
    "Maqsad - aholininng shu yashash tarzida ortacha qancha umr korishini aniqlash\n",
    "Maqsad2- qaysi jamoa yutishini aytib berish\n"
   ]
  },
  {
   "cell_type": "markdown",
   "metadata": {},
   "source": [
    "1-savol: Supervised Ml ga oid 2 ta misol toping va o’zingiz misollardan berilganidek jadval to’ldiring\n",
    "\n",
    "Biror kasallikni diagnostika qilish. Input uchun temperatura, burun bitishi, yotal. algoritm shu patternni aniqlay olsa grip deb tashxis (output) bera olishi.\n",
    "Bozordagi kir yuvish mashinasiga bolgan talabni mavsumga kora aniqlash. Input bu sales data oy davomida.\n",
    "\n",
    "• 2-savol: Unsupervised Ml ga oid 2 ta misol toping va o’zingiz misollardan berilganidek jadval to’ldiring\n",
    "\n",
    "Bu asosan malumotlarni guruhlash bolganni uchun, target customer segmentni aniqlash. Bunda yoshi, irqi, yashash joyiga qarab clusterlarga ajratish mumkin. \n",
    "social media recommended posts. Korilayotkan videolar, rasmlar, postlarni guruhlab aynan shu turdagi videolar recommend qilishi.  \n",
    "\n",
    "• 3-savol: Reinforcement Ml ga oid 2 ta misol toping(O’rganilishi kerak bo’lgan mavsular bo’lani sababli jadval to’ldirish shart emas)\n",
    "\n",
    "Gaming - cs:go dagi auto botlar. Atrofdagi hodisalarni hisobga olgan holda oynaydi.\n",
    "KakaoMap navigation. Qayerda turganizga, real time traffic, transport turiga qarab yol taqdim qiladi\n",
    "\n",
    "• 4-savol: O’tilgan 2 ta mavzu bo’yicha xulosalaringiz va takfilaringizni yozing\n",
    "\n",
    "Mlning har xil turlari. Bir biriga juda yaqin lekin asosan inputga va uni qanday tahliliga kora farqlanadi"
   ]
  },
  {
   "cell_type": "markdown",
   "metadata": {},
   "source": [
    "\n",
    "Python exercises"
   ]
  },
  {
   "cell_type": "code",
   "execution_count": 2,
   "metadata": {},
   "outputs": [
    {
     "name": "stdout",
     "output_type": "stream",
     "text": [
      "a + b =  32\n",
      "a - b =  22\n",
      "a x b =  135\n",
      "a : b =  5.4\n",
      "[a : b ] =  5\n",
      "{a : b } =  2\n"
     ]
    }
   ],
   "source": [
    "a = 27\n",
    "b = 5\n",
    "print('a + b = ',a+b)\n",
    "print('a - b = ',a-b)\n",
    "print('a x b = ',a*b)\n",
    "print('a : b = ',a/b)\n",
    "print('[a : b ] = ',a//b)\n",
    "print('{a : b } = ',a%b)"
   ]
  },
  {
   "cell_type": "code",
   "execution_count": null,
   "metadata": {},
   "outputs": [],
   "source": []
  }
 ],
 "metadata": {
  "kernelspec": {
   "display_name": "Python 3",
   "language": "python",
   "name": "python3"
  },
  "language_info": {
   "codemirror_mode": {
    "name": "ipython",
    "version": 3
   },
   "file_extension": ".py",
   "mimetype": "text/x-python",
   "name": "python",
   "nbconvert_exporter": "python",
   "pygments_lexer": "ipython3",
   "version": "3.10.0"
  }
 },
 "nbformat": 4,
 "nbformat_minor": 2
}
