{
 "cells": [
  {
   "cell_type": "markdown",
   "metadata": {},
   "source": [
    "# Vazifa"
   ]
  },
  {
   "cell_type": "markdown",
   "metadata": {},
   "source": [
    "# Quyidagi misollarni oddiy va lambda funksiyadan foydalanib bajaring\n",
    "1. [3,5,6] sonlar kvadratlarini yug'indisini topadigan funksiya yozing\n",
    "2. 1 dan 10 gacha bo'lgan sonlar orasidan juftlarini/toqlarini sonini topadigan funksiya yozing\n",
    "3. 1 dan 10 gacha bo'lgan sonlar orasidan o'rta arifmetigi/geometrigini aniqlaydigan topadigan funksiya yozing\n",
    "4. [1,4,6] sonlar orasidan eng katta/kichik va o'rtanchasini topadigan funksiya yozing\n",
    "5. Berilgan so'zdagi unlilar sonini topadigan funksiya yozing"
   ]
  },
  {
   "cell_type": "code",
   "execution_count": 15,
   "metadata": {},
   "outputs": [],
   "source": [
    "import math"
   ]
  },
  {
   "cell_type": "code",
   "execution_count": null,
   "metadata": {},
   "outputs": [
    {
     "name": "stdout",
     "output_type": "stream",
     "text": [
      "70\n"
     ]
    }
   ],
   "source": [
    "def kvadrat_sum_for(sonlar):\n",
    "    sum = 0\n",
    "    for son in sonlar:\n",
    "        sum += son**2\n",
    "    return sum\n",
    "print(kvadrat_sum_for([3,5,6]))\n",
    "\n",
    "# lambda funksiya bilan \n",
    "\n",
    "kvadrat_sum_lambda = lambda sonlar: sum([son**2 for son in sonlar])\n",
    "print(kvadrat_sum_lambda([3,5,6]))"
   ]
  },
  {
   "cell_type": "code",
   "execution_count": 40,
   "metadata": {},
   "outputs": [
    {
     "name": "stdout",
     "output_type": "stream",
     "text": [
      "(5, 5)\n",
      "(5, 5)\n"
     ]
    }
   ],
   "source": [
    "\n",
    "def even_odd_count(numbers):\n",
    "    even_count = sum(1 for number in numbers if number % 2 == 0)\n",
    "    odd_count = sum(1 for number in numbers if number % 2 != 0)\n",
    "    return even_count, odd_count\n",
    "print(even_odd_count(range(1, 11)))\n",
    "\n",
    "#lambda funksiya bilan\n",
    "even_odd_count_lambda = lambda numbers: (sum(1 for number in numbers if number % 2 == 0), sum(1 for number in numbers if number % 2 != 0))\n",
    "print(even_odd_count_lambda(range(1, 11)))\n",
    "\n"
   ]
  },
  {
   "cell_type": "code",
   "execution_count": 42,
   "metadata": {},
   "outputs": [
    {
     "name": "stdout",
     "output_type": "stream",
     "text": [
      "(5.5, 4.528728688116765)\n",
      "(5.5, 4.528728688116765)\n"
     ]
    }
   ],
   "source": [
    "#1 dan 10 gacha bo'lgan sonlar orasidan o'rta arifmetigi/geometrigini aniqlaydigan topadigan funksiya yozing    \n",
    "def arifmetic_geometric_mean(numbers):\n",
    "    arifmetic_mean = sum(numbers) / len(numbers)\n",
    "    kopaytma = 1\n",
    "    for i in numbers:\n",
    "        kopaytma *= i\n",
    "    geo_mean = math.pow(kopaytma, 1/len(numbers))\n",
    "    return arifmetic_mean, geo_mean\n",
    "print(arifmetic_geometric_mean(range(1, 11)))\n",
    "\n",
    "#lambda funksiya bilan\n",
    "\n",
    "arifmetic_geometric_mean_lambda = lambda numbers: (sum(numbers) / len(numbers), math.pow(math.prod(numbers), 1/len(numbers)))\n",
    "print(arifmetic_geometric_mean_lambda(range(1, 11)))\n"
   ]
  },
  {
   "cell_type": "code",
   "execution_count": 44,
   "metadata": {},
   "outputs": [
    {
     "name": "stdout",
     "output_type": "stream",
     "text": [
      "(6, 1, 3.6666666666666665)\n",
      "(6, 1, 3.6666666666666665)\n"
     ]
    }
   ],
   "source": [
    "def katta_kichik_ortacha(sonlar):\n",
    "    kattasi = sonlar[0]\n",
    "    kichkinasi = sonlar[0]\n",
    "    yigindi = 0\n",
    "    necta_son = 0\n",
    "    for son in sonlar:\n",
    "        yigindi += son\n",
    "        necta_son += 1\n",
    "    ortacha = yigindi / necta_son\n",
    "    for son in sonlar:\n",
    "        if son > kattasi:\n",
    "            kattasi = son\n",
    "        if son < kichkinasi:\n",
    "            kichiksi = son\n",
    "    return kattasi, kichkinasi, ortacha\n",
    "print(katta_kichik_ortacha([1,4,6]))\n",
    "\n",
    "#lambda version\n",
    "katta_kichik_ortacha_lambda = lambda sonlar: (max(sonlar), min(sonlar), sum(sonlar) / len(sonlar))\n",
    "print(katta_kichik_ortacha_lambda([1,4,6]))"
   ]
  },
  {
   "cell_type": "code",
   "execution_count": 45,
   "metadata": {},
   "outputs": [
    {
     "name": "stdout",
     "output_type": "stream",
     "text": [
      "2\n",
      "2\n"
     ]
    }
   ],
   "source": [
    "# Berilgan so'zdagi unlilar sonini topadigan funksiya yozing\n",
    "soz_input  = str(input('Sozni kiriting: '))\n",
    "def unlilar_soni(soz):\n",
    "    sum = 0\n",
    "    for i in soz:\n",
    "        if i.lower() in 'aeiou':\n",
    "            sum += 1\n",
    "    return sum\n",
    "print(unlilar_soni(soz_input))\n",
    "\n",
    "lambda_version = lambda soz: sum(1 for i in soz if i.lower() in 'aeiou')\n",
    "print(lambda_version(soz_input))"
   ]
  }
 ],
 "metadata": {
  "kernelspec": {
   "display_name": "base",
   "language": "python",
   "name": "python3"
  },
  "language_info": {
   "codemirror_mode": {
    "name": "ipython",
    "version": 3
   },
   "file_extension": ".py",
   "mimetype": "text/x-python",
   "name": "python",
   "nbconvert_exporter": "python",
   "pygments_lexer": "ipython3",
   "version": "3.12.2"
  }
 },
 "nbformat": 4,
 "nbformat_minor": 2
}
