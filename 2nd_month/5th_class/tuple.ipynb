{
 "cells": [
  {
   "cell_type": "markdown",
   "id": "da70b01a",
   "metadata": {},
   "source": [
    "# Tuple\n"
   ]
  },
  {
   "cell_type": "code",
   "execution_count": null,
   "id": "06e10dd8",
   "metadata": {},
   "outputs": [],
   "source": [
    "#1.Swap Two Tuples\n",
    "a=(2,4)\n",
    "b=(3,5)\n",
    "#2. istalgan tuple elementini unda mavjud yoki emasligini tekshiring\n",
    "#3. Tuple yarating va undan istalgan sonni necha marta takrorlangan ekanini tekshiring\n",
    "#4. Tuple yarating va uni unpacking qiling(numeric, mixed)\n",
    "#5. Istalgan 2 ta tupleni concatenate qiling"
   ]
  },
  {
   "cell_type": "code",
   "execution_count": 1,
   "id": "81f8287d",
   "metadata": {},
   "outputs": [],
   "source": [
    "#1.Swap Two Tuples\n",
    "a=(2,4)\n",
    "b=(3,5)\n",
    "a,b=b,a"
   ]
  },
  {
   "cell_type": "code",
   "execution_count": 2,
   "id": "1e30c414",
   "metadata": {},
   "outputs": [
    {
     "name": "stdout",
     "output_type": "stream",
     "text": [
      "True\n"
     ]
    }
   ],
   "source": [
    "#2. istalgan tuple elementini unda mavjud yoki emasligini tekshiring\n",
    "a=(2,4)\n",
    "b=(3,5)\n",
    "print(2 in a)"
   ]
  },
  {
   "cell_type": "code",
   "execution_count": 3,
   "id": "aecea814",
   "metadata": {},
   "outputs": [
    {
     "data": {
      "text/plain": [
       "3"
      ]
     },
     "execution_count": 3,
     "metadata": {},
     "output_type": "execute_result"
    }
   ],
   "source": [
    "#3. Tuple yarating va undan istalgan sonni necha marta takrorlangan ekanini tekshiring\n",
    "t=(1,4,5,3,6,4,5,6,4,5,2,34,12,34)\n",
    "t.count(4)"
   ]
  },
  {
   "cell_type": "code",
   "execution_count": 4,
   "id": "0fd54687",
   "metadata": {},
   "outputs": [
    {
     "name": "stdout",
     "output_type": "stream",
     "text": [
      "1\n",
      "[4, 5, 3, 6, 4, 5, 6, 4, 5, 2, 34, 12]\n",
      "34\n"
     ]
    }
   ],
   "source": [
    "#4. Tuple yarating va uni unpacking qiling(numeric, mixed)\n",
    "start,*middle,last=t\n",
    "print(start)\n",
    "print(middle)\n",
    "print(last)"
   ]
  },
  {
   "cell_type": "code",
   "execution_count": 5,
   "id": "e6fb3878",
   "metadata": {},
   "outputs": [
    {
     "name": "stdout",
     "output_type": "stream",
     "text": [
      "(1, 2, 3, 4, 5, 6)\n"
     ]
    }
   ],
   "source": [
    "#5. Istalgan 2 ta tupleni concatenate qiling\n",
    "a=(1,2,3)\n",
    "b=(4,5,6)\n",
    "t_new = a + b\n",
    "print(t_new)"
   ]
  },
  {
   "cell_type": "code",
   "execution_count": null,
   "id": "f25a2a72",
   "metadata": {},
   "outputs": [],
   "source": []
  }
 ],
 "metadata": {
  "kernelspec": {
   "display_name": "base",
   "language": "python",
   "name": "python3"
  },
  "language_info": {
   "codemirror_mode": {
    "name": "ipython",
    "version": 3
   },
   "file_extension": ".py",
   "mimetype": "text/x-python",
   "name": "python",
   "nbconvert_exporter": "python",
   "pygments_lexer": "ipython3",
   "version": "3.12.2"
  }
 },
 "nbformat": 4,
 "nbformat_minor": 5
}
