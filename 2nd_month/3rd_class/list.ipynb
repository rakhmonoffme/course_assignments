{
 "cells": [
  {
   "cell_type": "markdown",
   "id": "a1f63024",
   "metadata": {},
   "source": [
    "# Data Structures - LISTS"
   ]
  },
  {
   "cell_type": "code",
   "execution_count": 2,
   "id": "6f275eef",
   "metadata": {},
   "outputs": [],
   "source": [
    "import pandas as pd"
   ]
  },
  {
   "cell_type": "code",
   "execution_count": 12,
   "id": "5ef09628",
   "metadata": {},
   "outputs": [
    {
     "name": "stdout",
     "output_type": "stream",
     "text": [
      "[1, 2, 3, 4, 5]\n"
     ]
    }
   ],
   "source": [
    "a = [1,2,3,4,5]\n",
    "print(a)"
   ]
  },
  {
   "cell_type": "markdown",
   "id": "d1d9f58c",
   "metadata": {},
   "source": [
    "# Berilgan listni o'rtasidagi elemeni toping"
   ]
  },
  {
   "cell_type": "code",
   "execution_count": 13,
   "id": "b6c3bb8a",
   "metadata": {},
   "outputs": [
    {
     "name": "stdout",
     "output_type": "stream",
     "text": [
      "3\n"
     ]
    }
   ],
   "source": [
    "#Berilgan listni o'rtasidagi elemeni toping\n",
    "\n",
    "median_index = len(a)//2\n",
    "print(a[median_index])"
   ]
  },
  {
   "cell_type": "code",
   "execution_count": 14,
   "id": "efa9e059",
   "metadata": {},
   "outputs": [
    {
     "name": "stdout",
     "output_type": "stream",
     "text": [
      "[1, 2, 4, 5]\n"
     ]
    }
   ],
   "source": [
    "#Berilgan listni o'rtasidagi elemeni o'chiring\n",
    "\n",
    "median_index = len(a)//2\n",
    "a.remove(a[median_index])\n",
    "print(a)"
   ]
  },
  {
   "cell_type": "code",
   "execution_count": 15,
   "id": "7cab86e3",
   "metadata": {},
   "outputs": [
    {
     "name": "stdout",
     "output_type": "stream",
     "text": [
      "[1, 2, 'element qoshildi', 4, 5]\n"
     ]
    }
   ],
   "source": [
    "#Berilgan listni o'rtasiga elementni qo'shing\n",
    "\n",
    "median_index = len(a)//2\n",
    "a.insert(median_index, \"element qoshildi\")\n",
    "print(a)"
   ]
  },
  {
   "cell_type": "code",
   "execution_count": 26,
   "id": "f8771b97",
   "metadata": {},
   "outputs": [
    {
     "name": "stdout",
     "output_type": "stream",
     "text": [
      "ociriwdan avval: [1, 2, 'element qoshildi', 4, 5]\n",
      "ocirildan keyin: [2, 4]\n"
     ]
    }
   ],
   "source": [
    "#Berilgan listdagi juft o'rinda turgan elmentlarni o'chiring\n",
    "\n",
    "print(f'ociriwdan avval: {a}')\n",
    "juft_indexlar = [i for i in range(len(a)) if i%2==0]\n",
    "\n",
    "for i in reversed(juft_indexlar):\n",
    "    a.remove(a[i])\n",
    "\n",
    "print(f'ocirildan keyin: {a}')\n",
    "\n"
   ]
  },
  {
   "cell_type": "code",
   "execution_count": 30,
   "id": "6b005d62",
   "metadata": {},
   "outputs": [
    {
     "name": "stdout",
     "output_type": "stream",
     "text": [
      "juftlar yigindisi: 9\n",
      "toqlarni yigindisi: 6\n"
     ]
    }
   ],
   "source": [
    "\n",
    "#Berilgan listdagi toq o'rinda turgan elmentlar va juft o'rinda turgan elementlar yigindisini toping\n",
    "\n",
    "a = [1,2,3,4,5]\n",
    "\n",
    "print(f'juftlar yigindisi: {sum([a[i] for i in juft_indexlar])}')\n",
    "\n",
    "print(f'toqlarni yigindisi: {sum([a[i] for i in range(len(a)) if i%2!=0])}')"
   ]
  },
  {
   "cell_type": "code",
   "execution_count": null,
   "id": "695f93b2",
   "metadata": {},
   "outputs": [],
   "source": []
  }
 ],
 "metadata": {
  "kernelspec": {
   "display_name": "base",
   "language": "python",
   "name": "python3"
  },
  "language_info": {
   "codemirror_mode": {
    "name": "ipython",
    "version": 3
   },
   "file_extension": ".py",
   "mimetype": "text/x-python",
   "name": "python",
   "nbconvert_exporter": "python",
   "pygments_lexer": "ipython3",
   "version": "3.12.2"
  }
 },
 "nbformat": 4,
 "nbformat_minor": 5
}
