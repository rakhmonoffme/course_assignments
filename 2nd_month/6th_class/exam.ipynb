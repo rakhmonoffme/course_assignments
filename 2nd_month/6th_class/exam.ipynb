{
 "cells": [
  {
   "cell_type": "markdown",
   "id": "46308913",
   "metadata": {},
   "source": [
    "# Mid-term exam"
   ]
  },
  {
   "cell_type": "markdown",
   "id": "37048768",
   "metadata": {
    "vscode": {
     "languageId": "raw"
    }
   },
   "source": [
    "1. Feature Engineering bn Feature Transforming farqi\n",
    "\n",
    "Feature Engineering: datadagi columnlardan foydalanib target variablega bogliq yangi column qoshish. \n",
    "Feature Transforming: shu featureni ustida ozgartirsh, shaklini ozgartirish, boshqa valuega convert qilish kabi amallarni bajarish."
   ]
  },
  {
   "cell_type": "markdown",
   "id": "dd541ea9",
   "metadata": {
    "vscode": {
     "languageId": "raw"
    }
   },
   "source": [
    "2. Qanday turdagi feature Transforminglar mavjud?\n",
    "\n",
    "- Mathematical (Logarithmic, Power, Exponentiation, Sqrt)\n",
    "- Scaling, Normalization\n",
    "- Encoding\n",
    "- Discretization\n",
    "- Missing values filling\n",
    "- Groupby, log, rank\n",
    "- Time-Based Transformations"
   ]
  },
  {
   "cell_type": "markdown",
   "id": "cc153031",
   "metadata": {
    "vscode": {
     "languageId": "raw"
    }
   },
   "source": [
    "3. Klib va Autocleanning bir biridan farqi va o'xshashliklari?\n",
    "\n",
    "Autoclean - handles missing values and fills them with the mean or median of the column, removing non-numerical characters from elements, encoding with label encoding\n",
    "Klib - dropping 50% more missing value rows, dropping duplicated data, column name standardization, data visualization\n",
    "\n",
    "Oxshash tarafi: memory usage reduction"
   ]
  },
  {
   "cell_type": "markdown",
   "id": "be145898",
   "metadata": {
    "vscode": {
     "languageId": "raw"
    }
   },
   "source": [
    "4. Funksiya nima? Lambda funksiyasi qanday ishlaydi?\n",
    "\n",
    "Funksiya - biror bir vazifani bajarish uchun qayta-qayta ishlatiladigan kodlar bloki. \n",
    "Lambda funksiyasi - faqat bir qator koddan iborat, bir martalik funksiya. ishlashi: lambda argument beriladi: expression yoziladi. e.g. print(lambda x: x**2, 5) -> 25\n"
   ]
  },
  {
   "cell_type": "markdown",
   "id": "b2a9cad5",
   "metadata": {
    "vscode": {
     "languageId": "raw"
    }
   },
   "source": [
    "5. Data Structure List.\n",
    "List - indexlari orqali murojaat qilish mumkin bolgan, tartiblangan, mutuable data structure. \n",
    "ML da ishlatish: shaxsan encoding qilayotganda ishlatdim. yani categorical va numerical columntlarni ajratib olib alohida listga saqlab ular ustida amallar bajarildi"
   ]
  },
  {
   "cell_type": "markdown",
   "id": "d734bc08",
   "metadata": {
    "vscode": {
     "languageId": "raw"
    }
   },
   "source": [
    "6. Data structure Dict: Python/ML da ishlatish\n",
    "\n",
    "Dictionary - mutuable, unordered, key-value tartibida ishlaydigan python data structure. ML da Dataframe yasab tablega joylayotgan vaqtda, biror feature yoki target valueni mapping qilishda ishlatildi."
   ]
  },
  {
   "cell_type": "markdown",
   "id": "f0d72aaa",
   "metadata": {
    "vscode": {
     "languageId": "raw"
    }
   },
   "source": [
    "7. Data structure Tuple: Python/ML da ishlatish\n",
    "\n",
    "Tuple - ordered, unmutuable, turli datatypeni saqlay oladigan, o'zgartirib bo'lmaydigan, listdan tezroq ishlaydigan data structure. \n",
    "Machine learningda x_train, y_train ga train_test_split da ajratganimizda data tupleda bo'ladi"
   ]
  },
  {
   "cell_type": "code",
   "execution_count": 2,
   "id": "b700cfdc",
   "metadata": {},
   "outputs": [
    {
     "data": {
      "text/plain": [
       "[6, 4, 12, 10, 32, 8]"
      ]
     },
     "execution_count": 2,
     "metadata": {},
     "output_type": "execute_result"
    }
   ],
   "source": [
    "# istalgan list elementlari kirgizilganda ular orasidan juft va musbatlarini ekranga ciqaruvchi funksiya yozing\n",
    "a  = [1, 0, 5, -2, 45, -3, 6, 4, 12, 10, 32, 8]\n",
    "\n",
    "def aniqla(berilgan):\n",
    "    javob = []\n",
    "    for i in berilgan:\n",
    "        if i > 0 and i % 2 == 0:\n",
    "            javob.append(i)\n",
    "    return javob\n",
    "        \n",
    "aniqla(a)\n"
   ]
  },
  {
   "cell_type": "code",
   "execution_count": null,
   "id": "99f4cb75",
   "metadata": {},
   "outputs": [
    {
     "data": {
      "text/plain": [
       "[3, 4, 5, 6, 7, 8]"
      ]
     },
     "execution_count": 24,
     "metadata": {},
     "output_type": "execute_result"
    }
   ],
   "source": [
    "b = (3, 4, 5, 6, 7, 8)\n",
    "temp_list = list(b)\n",
    "temp_list\n",
    "for i in temp_list:\n",
    "        berilgan[i] = berilgan[i-1]\n"
   ]
  },
  {
   "cell_type": "code",
   "execution_count": 38,
   "id": "868878c7",
   "metadata": {},
   "outputs": [
    {
     "name": "stdout",
     "output_type": "stream",
     "text": [
      "(4, 3)\n"
     ]
    }
   ],
   "source": [
    "# tuple elementlarining o'rinlarini almashtirib beradigan funksiya tuzing.\n",
    "b = (3, 4)\n",
    "\n",
    "def almashtir(berilgan):\n",
    "    return berilgan[1],berilgan[0]\n",
    "\n",
    "print(almashtir(b))\n"
   ]
  },
  {
   "cell_type": "code",
   "execution_count": 14,
   "id": "7ff0ab31",
   "metadata": {},
   "outputs": [
    {
     "data": {
      "text/plain": [
       "34.666666666666664"
      ]
     },
     "execution_count": 14,
     "metadata": {},
     "output_type": "execute_result"
    }
   ],
   "source": [
    "# Berilgan dict qiymatlarining o'rta arifmetigini chiqaradigan funksiya yozing.\n",
    "\n",
    "def ortacha(berilgan):\n",
    "    qiymatlar = list(berilgan.values())\n",
    "    return sum(qiymatlar) / len(qiymatlar)\n",
    "\n",
    "dict = {'nabira': 13, 'farzand': 27, 'bobo': 64}\n",
    "ortacha(dict)"
   ]
  },
  {
   "cell_type": "code",
   "execution_count": 16,
   "id": "e3f628d0",
   "metadata": {},
   "outputs": [
    {
     "data": {
      "text/plain": [
       "23"
      ]
     },
     "execution_count": 16,
     "metadata": {},
     "output_type": "execute_result"
    }
   ],
   "source": [
    "# Berilgan str uzunligini topadigan funksiya yozing.\n",
    "\n",
    "a = 'Python ga hush kelibsiz'\n",
    "\n",
    "def uzunlik(berilgan):\n",
    "    count = 0\n",
    "    for i in berilgan:\n",
    "        if type(i) == str:\n",
    "            count += 1\n",
    "    return count\n",
    "\n",
    "uzunlik(a)\n"
   ]
  },
  {
   "cell_type": "code",
   "execution_count": 17,
   "id": "36451079",
   "metadata": {},
   "outputs": [
    {
     "data": {
      "text/plain": [
       "'Juftlar: [2, 4, 6, 8, 10], Toqlar: [1, 3, 5, 7, 9]'"
      ]
     },
     "execution_count": 17,
     "metadata": {},
     "output_type": "execute_result"
    }
   ],
   "source": [
    "# List elementlarini juft va toqlarini alohida yangi 2 ta listga joylashtirib beradigan funksiya tuzing.\n",
    "\n",
    "def ajrat(berilgan):\n",
    "  juft=[]\n",
    "  toq=[]\n",
    "  for i in berilgan:\n",
    "    if i % 2 == 0:\n",
    "      juft.append(i)\n",
    "    else:\n",
    "      toq.append(i)\n",
    "  return f\"Juftlar: {juft}, Toqlar: {toq}\"\n",
    "\n",
    "listt = [1, 2, 3, 4, 5, 6, 7, 8, 9, 10]\n",
    "ajrat(listt)\n"
   ]
  },
  {
   "cell_type": "code",
   "execution_count": null,
   "id": "63252d81",
   "metadata": {},
   "outputs": [],
   "source": []
  }
 ],
 "metadata": {
  "kernelspec": {
   "display_name": "base",
   "language": "python",
   "name": "python3"
  },
  "language_info": {
   "codemirror_mode": {
    "name": "ipython",
    "version": 3
   },
   "file_extension": ".py",
   "mimetype": "text/x-python",
   "name": "python",
   "nbconvert_exporter": "python",
   "pygments_lexer": "ipython3",
   "version": "3.12.2"
  }
 },
 "nbformat": 4,
 "nbformat_minor": 5
}
